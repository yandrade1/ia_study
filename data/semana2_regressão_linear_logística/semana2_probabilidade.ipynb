{
 "cells": [
  {
   "cell_type": "markdown",
   "metadata": {},
   "source": [
    "# 🎲 Semana 2 - Probabilidade Básica\n",
    "\n",
    "Este notebook cobre os conceitos fundamentais de probabilidade:\n",
    "- Definição de probabilidade\n",
    "- Regra da soma\n",
    "- Regra da multiplicação\n",
    "- Probabilidade condicional\n"
   ]
  },
  {
   "cell_type": "markdown",
   "metadata": {},
   "source": [
    "## 1. Probabilidade Básica\n",
    "\n",
    "$$ P(A) = \\frac{\\text{casos favoráveis}}{\\text{casos possíveis}} $$\n",
    "\n",
    "Exemplo: Jogar um dado justo de 6 lados.\n",
    "- Espaço amostral: {1, 2, 3, 4, 5, 6}\n",
    "- Evento A: sair par {2, 4, 6}\n",
    "- $P(A) = 3/6 = 0.5$\n"
   ]
  },
  {
   "cell_type": "code",
   "metadata": {
    "ExecuteTime": {
     "end_time": "2025-09-02T11:44:43.059137Z",
     "start_time": "2025-09-02T11:44:43.040684Z"
    }
   },
   "source": [
    "import random\n",
    "\n",
    "dado = [1, 2, 3, 4, 5, 6]\n",
    "n = 100000\n",
    "pares = sum(1 for _ in range(n) if random.choice(dado) % 2 == 0)\n",
    "print(\"P(par) ≈\", pares/n)"
   ],
   "outputs": [
    {
     "name": "stdout",
     "output_type": "stream",
     "text": [
      "P(par) ≈ 0.49917\n"
     ]
    }
   ],
   "execution_count": 1
  },
  {
   "cell_type": "markdown",
   "metadata": {},
   "source": [
    "## 2. Regras Importantes\n",
    "\n",
    "### Regra da Soma\n",
    "Para eventos mutuamente exclusivos:\n",
    "$$ P(A \\cup B) = P(A) + P(B) $$\n",
    "\n",
    "### Regra da Multiplicação\n",
    "Para eventos independentes:\n",
    "$$ P(A \\cap B) = P(A) \\cdot P(B) $$\n"
   ]
  },
  {
   "cell_type": "markdown",
   "metadata": {},
   "source": [
    "## 3. Probabilidade Condicional\n",
    "\n",
    "$$ P(A|B) = \\frac{P(A \\cap B)}{P(B)} $$\n",
    "\n",
    "Exemplo: Qual a probabilidade de uma carta ser Ás vermelho dado que já sabemos que é um Ás?\n"
   ]
  },
  {
   "cell_type": "code",
   "metadata": {
    "ExecuteTime": {
     "end_time": "2025-09-02T11:44:51.780661Z",
     "start_time": "2025-09-02T11:44:51.754128Z"
    }
   },
   "source": [
    "baralho = [(\"A\", \"♥\"), (\"A\", \"♦\"), (\"A\", \"♣\"), (\"A\", \"♠\")]\n",
    "n = 100000\n",
    "eventos = [random.choice(baralho) for _ in range(n)]\n",
    "\n",
    "cond = [c for c in eventos if c[0] == \"A\"]\n",
    "red = [c for c in cond if c[1] in [\"♥\", \"♦\"]]\n",
    "\n",
    "print(\"P(vermelho|Ás) ≈\", len(red)/len(cond))"
   ],
   "outputs": [
    {
     "name": "stdout",
     "output_type": "stream",
     "text": [
      "P(vermelho|Ás) ≈ 0.5002\n"
     ]
    }
   ],
   "execution_count": 2
  }
 ],
 "metadata": {
  "kernelspec": {
   "display_name": "Python 3",
   "language": "python",
   "name": "python3"
  },
  "language_info": {
   "name": "python",
   "version": "3.10"
  }
 },
 "nbformat": 4,
 "nbformat_minor": 2
}
