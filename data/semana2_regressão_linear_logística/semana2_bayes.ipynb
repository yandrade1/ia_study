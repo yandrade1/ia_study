{
 "cells": [
  {
   "cell_type": "markdown",
   "metadata": {},
   "source": [
    "# Semana 2 - Extra: Teorema de Bayes\n",
    "Exemplo prático em Python para entender probabilidades condicionais."
   ]
  },
  {
   "cell_type": "code",
   "metadata": {
    "ExecuteTime": {
     "end_time": "2025-09-04T11:54:15.981286Z",
     "start_time": "2025-09-04T11:54:15.977671Z"
    }
   },
   "source": [
    "# Exemplo clássico: teste de doença\n",
    "\n",
    "P_disease = 0.01        # prevalência (1%)\n",
    "P_healthy = 0.99\n",
    "P_pos_given_disease = 0.99\n",
    "P_pos_given_healthy = 0.05\n",
    "\n",
    "# Probabilidade total de dar positivo\n",
    "P_positive = P_pos_given_disease * P_disease + P_pos_given_healthy * P_healthy\n",
    "\n",
    "# Aplicando Bayes\n",
    "P_disease_given_positive = (P_pos_given_disease * P_disease) / P_positive\n",
    "\n",
    "print(\"Probabilidade de estar doente dado teste positivo:\", round(P_disease_given_positive, 4))"
   ],
   "outputs": [
    {
     "name": "stdout",
     "output_type": "stream",
     "text": [
      "Probabilidade de estar doente dado teste positivo: 0.1667\n"
     ]
    }
   ],
   "execution_count": 1
  },
  {
   "cell_type": "markdown",
   "metadata": {},
   "source": [
    "## Simulação de Monte Carlo\n",
    "Vamos simular 100.000 pessoas passando pelo teste e verificar a proporção de verdadeiros doentes entre os positivos."
   ]
  },
  {
   "cell_type": "code",
   "metadata": {
    "ExecuteTime": {
     "end_time": "2025-09-04T11:54:26.889667Z",
     "start_time": "2025-09-04T11:54:26.702610Z"
    }
   },
   "source": [
    "import numpy as np\n",
    "\n",
    "N = 100000\n",
    "people = np.random.choice([\"disease\", \"healthy\"], size=N, p=[P_disease, P_healthy])\n",
    "\n",
    "results = []\n",
    "for person in people:\n",
    "    if person == \"disease\":\n",
    "        positive = np.random.rand() < P_pos_given_disease\n",
    "    else:\n",
    "        positive = np.random.rand() < P_pos_given_healthy\n",
    "    results.append((person, positive))\n",
    "\n",
    "positives = [r for r in results if r[1]]\n",
    "diseased_in_positives = [r for r in positives if r[0] == \"disease\"]\n",
    "\n",
    "print(\"Proporção real (simulada):\", len(diseased_in_positives)/len(positives))"
   ],
   "outputs": [
    {
     "name": "stdout",
     "output_type": "stream",
     "text": [
      "Proporção real (simulada): 0.170310116929334\n"
     ]
    }
   ],
   "execution_count": 2
  }
 ],
 "metadata": {
  "kernelspec": {
   "display_name": "Python 3",
   "language": "python",
   "name": "python3"
  },
  "language_info": {
   "name": "python",
   "version": "3.10"
  }
 },
 "nbformat": 4,
 "nbformat_minor": 2
}
