{
 "cells": [
  {
   "cell_type": "markdown",
   "id": "47d275d0",
   "metadata": {},
   "source": [
    "# Semana 1 - Revisão Álgebra Linear + Estatística\n"
   ]
  },
  {
   "cell_type": "markdown",
   "id": "9acab24c",
   "metadata": {},
   "source": [
    "## Álgebra Linear\n",
    "### 1. Vetores e Matrizes\n",
    "Exemplo com vetor e matriz:"
   ]
  },
  {
   "cell_type": "code",
   "id": "12f897ab",
   "metadata": {
    "ExecuteTime": {
     "end_time": "2025-08-26T12:05:40.458275Z",
     "start_time": "2025-08-26T12:05:40.393821Z"
    }
   },
   "source": [
    "\n",
    "import numpy as np\n",
    "\n",
    "A = np.array([[1, 2],\n",
    "              [3, 4]])\n",
    "v = np.array([5, 6])\n",
    "\n",
    "print(\"Matriz A:\\n\", A)\n",
    "print(\"Vetor v:\\n\", v)\n",
    "print(\"Produto A @ v:\\n\", A @ v)\n"
   ],
   "outputs": [
    {
     "name": "stdout",
     "output_type": "stream",
     "text": [
      "Matriz A:\n",
      " [[1 2]\n",
      " [3 4]]\n",
      "Vetor v:\n",
      " [5 6]\n",
      "Produto A @ v:\n",
      " [17 39]\n"
     ]
    }
   ],
   "execution_count": 1
  },
  {
   "cell_type": "markdown",
   "id": "fadedf9e",
   "metadata": {},
   "source": [
    "\n",
    "### 2. Multiplicações em NumPy (Cola Rápida)\n",
    "\n",
    "| Operador/Função | Significado | Exemplo | Resultado |\n",
    "|-----------------|-------------|---------|------------|\n",
    "| `*` | Multiplicação **elemento a elemento** | `A * B` | `[[1*9, 2*8], [3*7, 4*6]] = [[9,16],[21,24]]` |\n",
    "| `@` | Produto matricial (Pythonic) | `A @ B` | `[[1*9+2*7, 1*8+2*6], [3*9+4*6]]` |\n",
    "| `np.dot(A, B)` | Produto escalar (1D) ou matricial (2D) | Igual ao `@` quando matrizes/vetores 2D | Mesmo que `A @ B` |\n",
    "| `np.matmul(A, B)` | Produto matricial (suporta broadcast) | Igual ao `@`, mas mais flexível em tensores > 2D | Mesmo que `A @ B` |\n"
   ]
  },
  {
   "cell_type": "code",
   "id": "3949c6ef",
   "metadata": {
    "ExecuteTime": {
     "end_time": "2025-08-26T12:05:45.547720Z",
     "start_time": "2025-08-26T12:05:45.543317Z"
    }
   },
   "source": [
    "\n",
    "import numpy as np\n",
    "\n",
    "A = np.array([[1, 2],\n",
    "              [3, 4]])\n",
    "B = np.array([[9, 8],\n",
    "              [7, 6]])\n",
    "v = np.array([5, 6])\n",
    "\n",
    "print(\"A * B =\", A * B)         # elemento a elemento\n",
    "print(\"A @ B =\", A @ B)         # produto matricial\n",
    "print(\"A @ v =\", A @ v)         # matriz * vetor\n",
    "print(\"np.dot(A, v) =\", np.dot(A, v)) # igual ao @ nesse caso\n"
   ],
   "outputs": [
    {
     "name": "stdout",
     "output_type": "stream",
     "text": [
      "A * B = [[ 9 16]\n",
      " [21 24]]\n",
      "A @ B = [[23 20]\n",
      " [55 48]]\n",
      "A @ v = [17 39]\n",
      "np.dot(A, v) = [17 39]\n"
     ]
    }
   ],
   "execution_count": 2
  },
  {
   "cell_type": "markdown",
   "id": "6e3bed70",
   "metadata": {},
   "source": [
    "## Estatística\n",
    "### 1. Distribuição Normal simulada"
   ]
  },
  {
   "cell_type": "code",
   "id": "d62036ba",
   "metadata": {
    "ExecuteTime": {
     "end_time": "2025-08-26T12:05:48.611251Z",
     "start_time": "2025-08-26T12:05:48.574571Z"
    }
   },
   "source": [
    "\n",
    "import numpy as np\n",
    "\n",
    "# Gerando dados normalmente distribuídos\n",
    "data = np.random.normal(loc=50, scale=10, size=1000)\n",
    "\n",
    "print(\"Média:\", np.mean(data))\n",
    "print(\"Variância:\", np.var(data))\n",
    "print(\"Desvio Padrão:\", np.std(data))\n"
   ],
   "outputs": [
    {
     "name": "stdout",
     "output_type": "stream",
     "text": [
      "Média: 49.99027309756323\n",
      "Variância: 95.31398977842092\n",
      "Desvio Padrão: 9.762888393217496\n"
     ]
    }
   ],
   "execution_count": 3
  }
 ],
 "metadata": {},
 "nbformat": 4,
 "nbformat_minor": 5
}
