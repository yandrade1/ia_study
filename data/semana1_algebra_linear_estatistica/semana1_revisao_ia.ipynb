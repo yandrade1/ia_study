{
 "cells": [
  {
   "cell_type": "markdown",
   "id": "97ad0377",
   "metadata": {},
   "source": [
    "# Semana 1 - Revisão de Álgebra Linear e Estatística"
   ]
  },
  {
   "cell_type": "markdown",
   "id": "9914e17b",
   "metadata": {},
   "source": [
    "## Álgebra Linear\n",
    "### Vetores e Matrizes"
   ]
  },
  {
   "cell_type": "code",
   "id": "719bee80",
   "metadata": {
    "ExecuteTime": {
     "end_time": "2025-08-26T11:55:57.689339Z",
     "start_time": "2025-08-26T11:55:57.686029Z"
    }
   },
   "source": [
    "import numpy as np\n",
    "A = np.array([[2, 1], [0, 3]])\n",
    "v = np.array([1, 2])\n",
    "# Somando vetores e matrizes\n",
    "soma1 = A + v\n",
    "soma2 = A + A\n",
    "soma3 = v + v\n",
    "# Multiplicando vetores e matrizes\n",
    "produto1 = A * v\n",
    "produto2 = A * A\n",
    "produto3 = v * v\n",
    "# Multiplicação matricial vetores e matrizes\n",
    "# abaixo são todas formas de fazer multiplicação matricial\n",
    "mult_matricial1 = np.dot(A, A)\n",
    "mult_matricial2 = np.matmul(A, v)\n",
    "mult_matricial3 = v @ v"
   ],
   "outputs": [],
   "execution_count": 12
  },
  {
   "cell_type": "markdown",
   "id": "1c49ecb3",
   "metadata": {},
   "source": [
    "## Estatística\n",
    "### Distribuição Normal"
   ]
  },
  {
   "cell_type": "code",
   "id": "34fe7eab",
   "metadata": {
    "ExecuteTime": {
     "end_time": "2025-08-26T11:59:14.955833Z",
     "start_time": "2025-08-26T11:59:14.952084Z"
    }
   },
   "source": [
    "import numpy as np, matplotlib.pyplot as plt\n",
    "data = np.random.normal(loc=50, scale=10, size=1000)\n",
    "np.mean(data), np.var(data), np.std(data)"
   ],
   "outputs": [
    {
     "data": {
      "text/plain": [
       "(np.float64(49.983327341249314),\n",
       " np.float64(98.77532175965457),\n",
       " np.float64(9.938577451509575))"
      ]
     },
     "execution_count": 13,
     "metadata": {},
     "output_type": "execute_result"
    }
   ],
   "execution_count": 13
  },
  {
   "cell_type": "code",
   "id": "043a9f24",
   "metadata": {
    "ExecuteTime": {
     "end_time": "2025-08-26T11:59:22.003901Z",
     "start_time": "2025-08-26T11:59:21.936152Z"
    }
   },
   "source": [
    "plt.hist(data, bins=30, alpha=0.7)\n",
    "plt.title('Histograma de distribuição normal')\n",
    "plt.show()"
   ],
   "outputs": [
    {
     "data": {
      "text/plain": [
       "<Figure size 640x480 with 1 Axes>"
      ],
      "image/png": "[encoded data removed]"
     },
     "metadata": {},
     "output_type": "display_data"
    }
   ],
   "execution_count": 14
  },
  {
   "cell_type": "markdown",
   "id": "6795b9b4",
   "metadata": {},
   "source": [
    "### Teorema de Bayes (Exemplo)"
   ]
  },
  {
   "cell_type": "code",
   "execution_count": null,
   "id": "469a91a8",
   "metadata": {},
   "outputs": [],
   "source": [
    "p_disease = 0.01\n",
    "p_pos_given_disease = 0.99\n",
    "p_pos_given_healthy = 0.05\n",
    "p_positive = p_pos_given_disease * p_disease + p_pos_given_healthy * (1 - p_disease)\n",
    "p_disease_given_positive = (p_pos_given_disease * p_disease) / p_positive\n",
    "p_disease_given_positive"
   ]
  }
 ],
 "metadata": {},
 "nbformat": 4,
 "nbformat_minor": 5
}
