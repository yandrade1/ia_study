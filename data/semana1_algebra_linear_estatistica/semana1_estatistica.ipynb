{
 "cells": [
  {
   "cell_type": "markdown",
   "id": "1eb4431d",
   "metadata": {},
   "source": [
    "\n",
    "# 📊 Estatística - Revisão Rápida\n",
    "\n",
    "Este notebook faz parte do meu **plano de estudos em IA/ML**.  \n",
    "Aqui vou revisar conceitos básicos de **estatística**, aplicando-os em Python.\n"
   ]
  },
  {
   "cell_type": "markdown",
   "id": "d12366e5",
   "metadata": {},
   "source": [
    "\n",
    "## 1. Medidas de Tendência Central\n",
    "\n",
    "- **Média**: soma dos valores dividido pela quantidade  \n",
    "- **Mediana**: valor central (ou média dos dois centrais)  \n",
    "- **Moda**: valor mais frequente  \n",
    "\n",
    "🔑 Uso:\n",
    "- Média é boa para dados simétricos, mas sensível a outliers.  \n",
    "- Mediana é robusta contra outliers.  \n",
    "- Moda é útil para variáveis categóricas.\n"
   ]
  },
  {
   "cell_type": "code",
   "id": "6d8fba31",
   "metadata": {
    "ExecuteTime": {
     "end_time": "2025-08-28T11:33:20.538961Z",
     "start_time": "2025-08-28T11:33:19.199895Z"
    }
   },
   "source": [
    "\n",
    "import numpy as np\n",
    "from scipy import stats\n",
    "\n",
    "data = [2, 3, 5, 5, 6, 7, 10]\n",
    "\n",
    "mean = np.mean(data)\n",
    "median = np.median(data)\n",
    "mode = stats.mode(data, keepdims=True)\n",
    "\n",
    "print(\"Média:\", mean)\n",
    "print(\"Mediana:\", median)\n",
    "print(\"Moda:\", mode.mode[0], \" (aparece\", mode.count[0], \"vezes)\")\n"
   ],
   "outputs": [
    {
     "name": "stdout",
     "output_type": "stream",
     "text": [
      "Média: 5.428571428571429\n",
      "Mediana: 5.0\n",
      "Moda: 5  (aparece 2 vezes)\n"
     ]
    }
   ],
   "execution_count": 1
  },
  {
   "cell_type": "markdown",
   "id": "b84b93ab",
   "metadata": {},
   "source": [
    "\n",
    "## 2. Medidas de Dispersão\n",
    "\n",
    "- **Amplitude** = máx - mín  \n",
    "- **Variância** = média dos desvios quadráticos  \n",
    "- **Desvio padrão** = raiz quadrada da variância  \n",
    "\n",
    "⚠️ Importante:  \n",
    "- `np.var(data)` → variância **populacional**  \n",
    "- `np.var(data, ddof=1)` → variância **amostral**\n"
   ]
  },
  {
   "cell_type": "code",
   "id": "27e47026",
   "metadata": {
    "ExecuteTime": {
     "end_time": "2025-08-28T11:34:17.703004Z",
     "start_time": "2025-08-28T11:34:17.699445Z"
    }
   },
   "source": [
    "\n",
    "amplitude = np.max(data) - np.min(data)\n",
    "var_pop = np.var(data)\n",
    "var_sample = np.var(data, ddof=1)\n",
    "std_pop = np.std(data)\n",
    "std_sample = np.std(data, ddof=1)\n",
    "\n",
    "print(\"Amplitude:\", amplitude)\n",
    "print(\"Variância populacional:\", var_pop)\n",
    "print(\"Variância amostral:\", var_sample)\n",
    "print(\"Desvio padrão populacional:\", std_pop)\n",
    "print(\"Desvio padrão amostral:\", std_sample)\n"
   ],
   "outputs": [
    {
     "name": "stdout",
     "output_type": "stream",
     "text": [
      "Amplitude: 8\n",
      "Variância populacional: 5.959183673469389\n",
      "Variância amostral: 6.952380952380953\n",
      "Desvio padrão populacional: 2.4411439272335804\n",
      "Desvio padrão amostral: 2.63673679998231\n"
     ]
    }
   ],
   "execution_count": 3
  },
  {
   "cell_type": "markdown",
   "id": "f84aeffa",
   "metadata": {},
   "source": [
    "\n",
    "## 3. Distribuições de Probabilidade\n",
    "\n",
    "### Distribuição Normal\n",
    "Usada para modelar muitos fenômenos naturais.  \n",
    "\n",
    "### Distribuição Binomial\n",
    "Modela número de sucessos em ensaios independentes com 2 resultados possíveis.  \n",
    "\n",
    "### Distribuição Uniforme\n",
    "Todos os valores têm a mesma probabilidade de ocorrer.\n"
   ]
  },
  {
   "cell_type": "code",
   "id": "2a2c416c",
   "metadata": {
    "ExecuteTime": {
     "end_time": "2025-08-28T11:43:21.149649Z",
     "start_time": "2025-08-28T11:43:21.067310Z"
    }
   },
   "source": [
    "\n",
    "import matplotlib.pyplot as plt\n",
    "\n",
    "# Normal\n",
    "normal_data = np.random.normal(loc=0, scale=1, size=1000)\n",
    "\n",
    "# Binomial\n",
    "binomial_data = np.random.binomial(n=10, p=0.5, size=1000)\n",
    "\n",
    "# Uniforme\n",
    "uniform_data = np.random.uniform(low=0, high=10, size=1000)\n",
    "\n",
    "fig, axs = plt.subplots(1, 3, figsize=(15,4))\n",
    "\n",
    "axs[0].hist(normal_data, bins=30, alpha=0.7, color='blue')\n",
    "axs[0].set_title(\"Normal\")\n",
    "\n",
    "axs[1].hist(binomial_data, bins=10, alpha=0.7, color='green')\n",
    "axs[1].set_title(\"Binomial\")\n",
    "\n",
    "axs[2].hist(uniform_data, bins=30, alpha=0.7, color='red')\n",
    "axs[2].set_title(\"Uniforme\")\n",
    "\n",
    "plt.show()\n"
   ],
   "outputs": [
    {
     "data": {
      "text/plain": [
       "<Figure size 1500x400 with 3 Axes>"
      ],
      "image/png": "[encoded data removed]"
     },
     "metadata": {},
     "output_type": "display_data"
    }
   ],
   "execution_count": 9
  },
  {
   "cell_type": "markdown",
   "id": "f4d1336e",
   "metadata": {},
   "source": [
    "\n",
    "## 4. Probabilidade Básica\n",
    "\n",
    "- **Regra da soma**: P(A ou B) = P(A) + P(B) (se mutuamente exclusivos)  \n",
    "- **Regra do produto**: P(A e B) = P(A) * P(B) (se independentes)  \n",
    "- **Probabilidade condicional**: P(A|B) = P(A e B) / P(B)\n"
   ]
  },
  {
   "cell_type": "code",
   "id": "f425d951",
   "metadata": {
    "ExecuteTime": {
     "end_time": "2025-08-28T11:36:11.984944Z",
     "start_time": "2025-08-28T11:36:11.982111Z"
    }
   },
   "source": [
    "\n",
    "# Exemplo: probabilidade condicional\n",
    "# Dado que temos um baralho com 52 cartas:\n",
    "# P(A) = probabilidade de sair Ás = 4/52\n",
    "# P(carta vermelha) = 26/52\n",
    "# P(Ás e vermelho) = 2/52\n",
    "\n",
    "p_ace = 4/52\n",
    "p_red = 26/52\n",
    "p_ace_and_red = 2/52\n",
    "\n",
    "p_ace_given_red = p_ace_and_red / p_red\n",
    "\n",
    "print(\"P(Ás):\", p_ace)\n",
    "print(\"P(Carta vermelha):\", p_red)\n",
    "print(\"P(Ás vermelho):\", p_ace_and_red)\n",
    "print(\"P(Ás | Vermelha):\", p_ace_given_red)\n"
   ],
   "outputs": [
    {
     "name": "stdout",
     "output_type": "stream",
     "text": [
      "P(Ás): 0.07692307692307693\n",
      "P(Carta vermelha): 0.5\n",
      "P(Ás vermelho): 0.038461538461538464\n",
      "P(Ás | Vermelha): 0.07692307692307693\n"
     ]
    }
   ],
   "execution_count": 5
  },
  {
   "cell_type": "markdown",
   "id": "ad0c4413",
   "metadata": {},
   "source": [
    "\n",
    "## 5. Visualização Exploratória\n",
    "\n",
    "- **Histogramas** → distribuição de frequências  \n",
    "- **Boxplots** → mediana, quartis e outliers\n"
   ]
  },
  {
   "cell_type": "code",
   "id": "b67e7ab3",
   "metadata": {
    "ExecuteTime": {
     "end_time": "2025-08-28T11:43:31.229491Z",
     "start_time": "2025-08-28T11:43:31.162921Z"
    }
   },
   "source": [
    "\n",
    "plt.figure(figsize=(10,4))\n",
    "\n",
    "plt.subplot(1,2,1)\n",
    "plt.hist(normal_data, bins=30, color=\"skyblue\", edgecolor=\"black\")\n",
    "plt.title(\"Histograma - Normal\")\n",
    "\n",
    "plt.subplot(1,2,2)\n",
    "plt.boxplot(normal_data, vert=False)\n",
    "plt.title(\"Boxplot - Normal\")\n",
    "\n",
    "plt.show()\n"
   ],
   "outputs": [
    {
     "data": {
      "text/plain": [
       "<Figure size 1000x400 with 2 Axes>"
      ],
      "image/png": "[encoded data removed]"
     },
     "metadata": {},
     "output_type": "display_data"
    }
   ],
   "execution_count": 11
  },
  {
   "metadata": {
    "ExecuteTime": {
     "end_time": "2025-08-28T11:43:35.172799Z",
     "start_time": "2025-08-28T11:43:35.167363Z"
    }
   },
   "cell_type": "code",
   "source": [
    "amplitude = np.max(normal_data) - np.min(normal_data)\n",
    "var_pop = np.var(normal_data)\n",
    "var_sample = np.var(normal_data, ddof=1)\n",
    "std_pop = np.std(normal_data)\n",
    "std_sample = np.std(normal_data, ddof=1)\n",
    "\n",
    "print(\"Max:\", np.max(normal_data))\n",
    "print(\"Min:\", np.min(normal_data))\n",
    "print(\"Amplitude:\", amplitude)\n",
    "print(\"Variância populacional:\", var_pop)\n",
    "print(\"Variância amostral:\", var_sample)\n",
    "print(\"Desvio padrão populacional:\", std_pop)\n",
    "print(\"Desvio padrão amostral:\", std_sample)"
   ],
   "id": "c1484b55dd6144f6",
   "outputs": [
    {
     "name": "stdout",
     "output_type": "stream",
     "text": [
      "Max: 3.501521211459114\n",
      "Min: -3.6267571643473757\n",
      "Amplitude: 7.12827837580649\n",
      "Variância populacional: 1.0108627683223146\n",
      "Variância amostral: 1.0118746429652798\n",
      "Desvio padrão populacional: 1.0054167137671397\n",
      "Desvio padrão amostral: 1.0059197994697588\n"
     ]
    }
   ],
   "execution_count": 12
  },
  {
   "metadata": {},
   "cell_type": "markdown",
   "source": [
    "\n",
    "## 6. Covariância e Correlação\n",
    "- **Covariância** → mede se duas variáveis variam juntas.\n",
    "    - **Positiva**: crescem juntas.\n",
    "    - **Negativa**: uma cresce enquanto a outra diminui.\n",
    "    - **Zero**: não há relação linear clara.\n",
    "- **Correlação (ρ)** → versão normalizada da covariância, varia entre -1 e 1.\n",
    "    - ρ ≈ 1 → relação linear forte positiva.\n",
    "    - ρ ≈ -1 → relação linear forte negativa.\n",
    "    - ρ ≈ 0 → pouca ou nenhuma relação linear."
   ],
   "id": "c7a57e1e6e7ea5ab"
  },
  {
   "metadata": {
    "ExecuteTime": {
     "end_time": "2025-08-28T11:51:25.648123Z",
     "start_time": "2025-08-28T11:51:25.644004Z"
    }
   },
   "cell_type": "code",
   "source": [
    "x = [1, 2, 3, 4, 5]\n",
    "y = [2, 4, 6, 8, 10]\n",
    "z = [9, 7, 5, 3, 1]\n",
    "\n",
    "print(\"Covariância X e Y:\\n\", np.cov(x, y))\n",
    "print(\"Covariância X e Z:\\n\", np.cov(x, z))\n",
    "print(\"Corelação X e Y:\\n\", np.corrcoef(x, y))\n",
    "print(\"Corelação X e Z:\\n\", np.corrcoef(x, z))"
   ],
   "id": "b449e19087c48bdf",
   "outputs": [
    {
     "name": "stdout",
     "output_type": "stream",
     "text": [
      "Covariância X e Y:\n",
      " [[ 2.5  5. ]\n",
      " [ 5.  10. ]]\n",
      "Covariância X e Z:\n",
      " [[ 2.5 -5. ]\n",
      " [-5.  10. ]]\n",
      "Corelação X e Y:\n",
      " [[1. 1.]\n",
      " [1. 1.]]\n",
      "Corelação X e Z:\n",
      " [[ 1. -1.]\n",
      " [-1.  1.]]\n"
     ]
    }
   ],
   "execution_count": 16
  },
  {
   "metadata": {},
   "cell_type": "markdown",
   "source": "",
   "id": "795c1c09dae3c931"
  }
 ],
 "metadata": {},
 "nbformat": 4,
 "nbformat_minor": 5
}
