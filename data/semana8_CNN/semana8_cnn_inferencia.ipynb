{
 "cells": [
  {
   "cell_type": "markdown",
   "id": "6a21ec6f",
   "metadata": {},
   "source": [
    "\n",
    "# Semana 8 — Inferência com CNN salva (MNIST) 🔎🧠\n",
    "\n",
    "Carregue o modelo **`cnn_mnist.pt`** e faça predições no conjunto de teste do **MNIST**.\n"
   ]
  },
  {
   "cell_type": "code",
   "id": "cb82090a",
   "metadata": {
    "ExecuteTime": {
     "end_time": "2025-10-16T11:44:57.653844Z",
     "start_time": "2025-10-16T11:44:55.664869Z"
    }
   },
   "source": [
    "\n",
    "import os\n",
    "import numpy as np\n",
    "import matplotlib.pyplot as plt\n",
    "import torch\n",
    "import torch.nn as nn\n",
    "import torch.nn.functional as F\n",
    "from torch.utils.data import DataLoader\n",
    "from torchvision import datasets, transforms\n",
    "from sklearn.metrics import classification_report, confusion_matrix\n"
   ],
   "outputs": [],
   "execution_count": 1
  },
  {
   "cell_type": "code",
   "id": "8a20ef17",
   "metadata": {
    "ExecuteTime": {
     "end_time": "2025-10-16T11:45:42.178553Z",
     "start_time": "2025-10-16T11:45:42.171389Z"
    }
   },
   "source": [
    "\n",
    "MODEL_PATH = \"cnn_mnist.pt\"\n",
    "if not os.path.exists(MODEL_PATH):\n",
    "    alt = \"/mnt/data/cnn_mnist.pt\"\n",
    "    if os.path.exists(alt):\n",
    "        MODEL_PATH = alt\n",
    "print(\"Modelo:\", MODEL_PATH if os.path.exists(MODEL_PATH) else \"NÃO ENCONTRADO\")\n",
    "\n",
    "device = torch.device(\"cuda\" if torch.cuda.is_available() else \"cpu\")\n",
    "device\n"
   ],
   "outputs": [
    {
     "name": "stdout",
     "output_type": "stream",
     "text": [
      "Modelo: cnn_mnist.pt\n"
     ]
    },
    {
     "data": {
      "text/plain": [
       "device(type='cpu')"
      ]
     },
     "execution_count": 2,
     "metadata": {},
     "output_type": "execute_result"
    }
   ],
   "execution_count": 2
  },
  {
   "cell_type": "code",
   "id": "71418887",
   "metadata": {
    "ExecuteTime": {
     "end_time": "2025-10-16T11:45:55.631871Z",
     "start_time": "2025-10-16T11:45:55.618568Z"
    }
   },
   "source": [
    "\n",
    "class SimpleCNN(nn.Module):\n",
    "    def __init__(self):\n",
    "        super().__init__()\n",
    "        self.conv1 = nn.Conv2d(1, 16, 3, padding=1)\n",
    "        self.pool  = nn.MaxPool2d(2,2)\n",
    "        self.conv2 = nn.Conv2d(16, 32, 3, padding=1)\n",
    "        self.flatten = nn.Flatten()\n",
    "        self.fc1   = nn.Linear(32*7*7, 128)\n",
    "        self.fc_out= nn.Linear(128, 10)\n",
    "    def forward(self, x):\n",
    "        x = F.relu(self.conv1(x)); x = self.pool(x)\n",
    "        x = F.relu(self.conv2(x)); x = self.pool(x)\n",
    "        x = self.flatten(x)\n",
    "        x = F.relu(self.fc1(x))\n",
    "        x = self.fc_out(x)\n",
    "        return x\n",
    "\n",
    "model = SimpleCNN().to(device)\n",
    "\n",
    "if not os.path.exists(MODEL_PATH):\n",
    "    raise FileNotFoundError(\"Não encontrei 'cnn_mnist.pt'. Treine e salve o modelo antes.\")\n",
    "state = torch.load(MODEL_PATH, map_location=device)\n",
    "model.load_state_dict(state)\n",
    "model.eval()\n",
    "\"OK\"\n"
   ],
   "outputs": [
    {
     "data": {
      "text/plain": [
       "'OK'"
      ]
     },
     "execution_count": 3,
     "metadata": {},
     "output_type": "execute_result"
    }
   ],
   "execution_count": 3
  },
  {
   "cell_type": "code",
   "id": "ce002697",
   "metadata": {
    "ExecuteTime": {
     "end_time": "2025-10-16T11:46:20.384493Z",
     "start_time": "2025-10-16T11:46:20.372772Z"
    }
   },
   "source": [
    "\n",
    "transform = transforms.Compose([\n",
    "    transforms.ToTensor(),\n",
    "    transforms.Normalize((0.1307,), (0.3081,))\n",
    "])\n",
    "test_ds  = datasets.MNIST(root=\"data\", train=False, download=True, transform=transform)\n",
    "test_loader = DataLoader(test_ds, batch_size=256, shuffle=False, num_workers=2, pin_memory=True)\n",
    "len(test_ds)\n"
   ],
   "outputs": [
    {
     "data": {
      "text/plain": [
       "10000"
      ]
     },
     "execution_count": 4,
     "metadata": {},
     "output_type": "execute_result"
    }
   ],
   "execution_count": 4
  },
  {
   "cell_type": "code",
   "id": "0d9e1ad5",
   "metadata": {
    "ExecuteTime": {
     "end_time": "2025-10-16T11:46:24.748410Z",
     "start_time": "2025-10-16T11:46:23.280518Z"
    }
   },
   "source": [
    "\n",
    "def eval_model(model, loader, device):\n",
    "    model.eval()\n",
    "    ys, yh = [], []\n",
    "    with torch.no_grad():\n",
    "        for xb, yb in loader:\n",
    "            xb = xb.to(device)\n",
    "            logits = model(xb)\n",
    "            pred = logits.argmax(1).cpu().numpy()\n",
    "            ys.append(yb.numpy()); yh.append(pred)\n",
    "    y_true = np.concatenate(ys); y_pred = np.concatenate(yh)\n",
    "    return y_true, y_pred\n",
    "\n",
    "y_true, y_pred = eval_model(model, test_loader, device)\n",
    "acc = (y_true == y_pred).mean()\n",
    "print(f\"Acurácia teste: {acc:.4f}\")\n",
    "print(\"\\nRelatório:\\n\", classification_report(y_true, y_pred, digits=4))\n"
   ],
   "outputs": [
    {
     "name": "stderr",
     "output_type": "stream",
     "text": [
      "/Users/yandrade/PycharmProjects/ia_study/.venv/lib/python3.11/site-packages/torch/utils/data/dataloader.py:684: UserWarning: 'pin_memory' argument is set as true but not supported on MPS now, then device pinned memory won't be used.\n",
      "  warnings.warn(warn_msg)\n"
     ]
    },
    {
     "name": "stdout",
     "output_type": "stream",
     "text": [
      "Acurácia teste: 0.9898\n",
      "\n",
      "Relatório:\n",
      "               precision    recall  f1-score   support\n",
      "\n",
      "           0     0.9819    0.9980    0.9899       980\n",
      "           1     0.9965    0.9974    0.9969      1135\n",
      "           2     0.9941    0.9855    0.9898      1032\n",
      "           3     0.9882    0.9941    0.9911      1010\n",
      "           4     0.9928    0.9857    0.9893       982\n",
      "           5     0.9865    0.9865    0.9865       892\n",
      "           6     0.9958    0.9875    0.9916       958\n",
      "           7     0.9941    0.9893    0.9917      1028\n",
      "           8     0.9857    0.9887    0.9872       974\n",
      "           9     0.9812    0.9841    0.9827      1009\n",
      "\n",
      "    accuracy                         0.9898     10000\n",
      "   macro avg     0.9897    0.9897    0.9897     10000\n",
      "weighted avg     0.9898    0.9898    0.9898     10000\n",
      "\n"
     ]
    }
   ],
   "execution_count": 5
  },
  {
   "cell_type": "code",
   "id": "a550270b",
   "metadata": {
    "ExecuteTime": {
     "end_time": "2025-10-16T11:46:31.802400Z",
     "start_time": "2025-10-16T11:46:31.572109Z"
    }
   },
   "source": [
    "\n",
    "# Grid aleatório de predições\n",
    "N = 16\n",
    "idx = np.random.choice(len(test_ds), size=N, replace=False)\n",
    "fig = plt.figure(figsize=(8,6))\n",
    "for i, k in enumerate(idx, 1):\n",
    "    img, target = test_ds[k]\n",
    "    with torch.no_grad():\n",
    "        pred = model(img.unsqueeze(0).to(device)).argmax(1).item()\n",
    "    ax = plt.subplot(4,4,i)\n",
    "    plt.imshow(img.squeeze().numpy(), cmap=\"gray\")\n",
    "    plt.title(f\"pred {pred} | true {target}\", fontsize=9)\n",
    "    plt.axis(\"off\")\n",
    "plt.tight_layout(); plt.show()\n"
   ],
   "outputs": [
    {
     "data": {
      "text/plain": [
       "<Figure size 800x600 with 16 Axes>"
      ],
      "image/png": "[encoded data removed]"
     },
     "metadata": {},
     "output_type": "display_data"
    }
   ],
   "execution_count": 6
  },
  {
   "cell_type": "code",
   "id": "b6bf9a04",
   "metadata": {
    "ExecuteTime": {
     "end_time": "2025-10-16T11:46:44.620543Z",
     "start_time": "2025-10-16T11:46:44.613290Z"
    }
   },
   "source": [
    "\n",
    "# Erros mais comuns\n",
    "cm = confusion_matrix(y_true, y_pred)\n",
    "cm_off = cm.copy().astype(float)\n",
    "np.fill_diagonal(cm_off, 0)\n",
    "pairs = [((i,j), int(cm_off[i,j])) for i in range(10) for j in range(10) if i!=j and cm_off[i,j]>0]\n",
    "pairs = sorted(pairs, key=lambda x: x[1], reverse=True)\n",
    "pairs[:10]\n"
   ],
   "outputs": [
    {
     "data": {
      "text/plain": [
       "[((4, 9), 12),\n",
       " ((5, 3), 9),\n",
       " ((2, 0), 7),\n",
       " ((7, 2), 6),\n",
       " ((3, 5), 5),\n",
       " ((6, 0), 5),\n",
       " ((9, 4), 4),\n",
       " ((9, 5), 4),\n",
       " ((9, 8), 4),\n",
       " ((1, 8), 3)]"
      ]
     },
     "execution_count": 7,
     "metadata": {},
     "output_type": "execute_result"
    }
   ],
   "execution_count": 7
  },
  {
   "cell_type": "code",
   "id": "8cd25736",
   "metadata": {
    "ExecuteTime": {
     "end_time": "2025-10-16T11:46:51.403915Z",
     "start_time": "2025-10-16T11:46:51.276771Z"
    }
   },
   "source": [
    "\n",
    "# Exibir alguns erros\n",
    "miss = np.where(y_true != y_pred)[0]\n",
    "np.random.shuffle(miss)\n",
    "show = miss[:12]\n",
    "fig = plt.figure(figsize=(8,6))\n",
    "for i, k in enumerate(show, 1):\n",
    "    img, target = test_ds[k]\n",
    "    pred = y_pred[k]\n",
    "    ax = plt.subplot(3,4,i)\n",
    "    plt.imshow(img.squeeze().numpy(), cmap=\"gray\")\n",
    "    plt.title(f\"pred {pred} | true {target}\", fontsize=9)\n",
    "    plt.axis(\"off\")\n",
    "plt.tight_layout(); plt.show()\n",
    "len(miss), \"erros exibidos:\", len(show)\n"
   ],
   "outputs": [
    {
     "data": {
      "text/plain": [
       "<Figure size 800x600 with 12 Axes>"
      ],
      "image/png": "[encoded data removed]"
     },
     "metadata": {},
     "output_type": "display_data"
    },
    {
     "data": {
      "text/plain": [
       "(102, 'erros exibidos:', 12)"
      ]
     },
     "execution_count": 8,
     "metadata": {},
     "output_type": "execute_result"
    }
   ],
   "execution_count": 8
  }
 ],
 "metadata": {},
 "nbformat": 4,
 "nbformat_minor": 5
}
